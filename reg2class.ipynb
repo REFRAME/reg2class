{
 "cells": [
  {
   "cell_type": "markdown",
   "metadata": {},
   "source": [
    "# Example RegtoClass"
   ]
  },
  {
   "cell_type": "markdown",
   "metadata": {},
   "source": [
    "In this example we show a case study of the work:\n",
    "\n",
    "[Binarised regression tasks: methods and evaluation metrics](http://link.springer.com/article/10.1007/s10618-015-0443-9)\n",
    "\n",
    "\n",
    "This work focuses on those supervised tasks that are presented with a numerical output but decisions have to be made in a discrete, binarised, way, according to a particular cutoff. In other words, we have a training dataset as if we were facing a regression task but we have a deployment situation that is a binary classification task. Our proposed approach is easily understood by means of a real life example"
   ]
  },
  {
   "cell_type": "markdown",
   "metadata": {},
   "source": [
    "## Case Study Dataset\n",
    "\n",
    "A running example using real mortgages data from Zillow (Zillow API 2013) and real cutoffs from the US Federal Financial Institutions Examination Council (Federal Financial Institutions Examination Council: Home Mortgage Disclosure Act, HMDA 2013) is used throughout the paper. This is a prototypical case of a binarised regression problem where the distributions for the output values and for the cutoffs are similar, as the next figure shows.\n",
    "\n",
    "![mortages](Zillow-HMDA.jpg)\n"
   ]
  },
  {
   "cell_type": "markdown",
   "metadata": {},
   "source": [
    "We start  loading reg2class functions"
   ]
  },
  {
   "cell_type": "code",
   "execution_count": 81,
   "metadata": {
    "collapsed": false
   },
   "outputs": [
    {
     "data": {
      "text/html": [
       "TRUE"
      ],
      "text/latex": [
       "TRUE"
      ],
      "text/markdown": [
       "TRUE"
      ],
      "text/plain": [
       "[1] TRUE"
      ]
     },
     "execution_count": 81,
     "metadata": {},
     "output_type": "execute_result"
    },
    {
     "data": {
      "text/html": [
       "TRUE"
      ],
      "text/latex": [
       "TRUE"
      ],
      "text/markdown": [
       "TRUE"
      ],
      "text/plain": [
       "[1] TRUE"
      ]
     },
     "execution_count": 81,
     "metadata": {},
     "output_type": "execute_result"
    }
   ],
   "source": [
    "source(\"Reg2Class-functions_v1.9.R\")\n",
    "\n",
    "require(\"quantreg\")|| install.packages(\"quantreg\")  # Quantile regression\n",
    "\n",
    "require(\"RWeka\") || install.packages(\"RWeka\")   # For tree modelling\n",
    "library(RWeka)  # Classification and Regression techniques: LinearRegression,  M5Rules, M5P, IBk\n",
    "\n",
    "\n",
    " "
   ]
  },
  {
   "cell_type": "markdown",
   "metadata": {},
   "source": [
    "Loading data "
   ]
  },
  {
   "cell_type": "code",
   "execution_count": 82,
   "metadata": {
    "collapsed": true
   },
   "outputs": [],
   "source": [
    "  dat<-read.csv(\"HousePricesData-Address-City-Features_fromZillow.csv\")\n",
    "  datalen <- nrow(dat)\n",
    "  mort<-read.csv(\"MortgagesData_2013_from_HMDA.csv\")\n",
    "  dat=dat[,!colnames(dat) %in% c(\"street\")]\n",
    "  cutsm<-sort(mort[[\"LoanAmount\"]])\n",
    "  output_col_name<-\"price\"\n",
    "  input_col_names<-names(dat)[1:(length(dat[1,])-1)]"
   ]
  },
  {
   "cell_type": "markdown",
   "metadata": {},
   "source": [
    "We determine the regression and classification techniques to use"
   ]
  },
  {
   "cell_type": "code",
   "execution_count": 83,
   "metadata": {
    "collapsed": true
   },
   "outputs": [],
   "source": [
    "class_technique_names <- c(\"Clas-LgR\", \"Clas-kNN\", \"Clas-J48\") \n",
    "#class_technique_names <- c(\"Clas-J48\")  \n",
    "#class_technique_names <- c()\n",
    "all_names <- c(reg_technique_names, class_technique_names)\n",
    "\n",
    "reg_technique_names <- c(\"Regr-LnR\", \"Regr-kNN\", \"Regr-M5P\",\"Regr-qr\")\n",
    "num_regmodels <- length(reg_technique_names)\n",
    "num_classmodels <- length(class_technique_names)\n"
   ]
  },
  {
   "cell_type": "markdown",
   "metadata": {},
   "source": [
    "Split Data"
   ]
  },
  {
   "cell_type": "code",
   "execution_count": 84,
   "metadata": {
    "collapsed": false
   },
   "outputs": [],
   "source": [
    "\n",
    "NUM_CUTOFFS_UNIFORM <- -1 # -1 # 100 # -1  # NUM_CUTOFFS_UNIFORM for the UCE plots and the UCE areas. \n",
    "#If -1 that means that it will be the same as the number of examples\n",
    "# General split\n",
    "DEPLOYPERC <- 0.9 # 0.33         # Percentage of the data for deployment\n",
    "TRAINPERC <- 1 - DEPLOYPERC\n",
    "VALPERC <- 0#0.25\n",
    "\n",
    "\n",
    "dattrainlen <- trunc(datalen*(TRAINPERC))\n",
    "dattrain <- dat[1:dattrainlen,]\n",
    "\n",
    "datvallen <- trunc(datalen*(VALPERC))\n",
    "if (VALPERC > 0) {\n",
    "  datval <- dat[(dattrainlen+1):(dattrainlen+datvallen),]\n",
    "}\n",
    "\n",
    "datdeploylen <- trunc(datalen*(DEPLOYPERC))\n",
    "if (DEPLOYPERC > 0) { \n",
    "  datdeploy <- dat[(dattrainlen+datvallen+1):datalen,]  \n",
    "}  \n",
    "\n",
    "# For the moment we can't treat validation and deployment at the same time.\n",
    "if (DEPLOYPERC > 0) {  # I give preference to set the test set equal to the deployment if there is deployment\n",
    "  dattest <- datdeploy\n",
    "} else {  \n",
    "  dattest <- datval\n",
    "}\n",
    "\n",
    "#dattest <- datval #cesar\n",
    "dattestlen <- nrow(dattest)\n",
    "\n",
    "# Sort the test dataset by the output value. This is crucial for the OCE plots. \n",
    "#Well, now it may be redundant, as the function Reg2Class_Reframing_Points does this by default\n",
    "res <- sort(dattest[[output_col_name]], index.return=TRUE)\n",
    "dattest <- dattest[res$ix,]\n",
    "\n",
    "train_actual <- dattrain[[output_col_name]]\n",
    "test_actual <- dattest[[output_col_name]]\n"
   ]
  },
  {
   "cell_type": "markdown",
   "metadata": {},
   "source": [
    "Train Regression models"
   ]
  },
  {
   "cell_type": "code",
   "execution_count": 85,
   "metadata": {
    "collapsed": false
   },
   "outputs": [],
   "source": [
    "\n",
    "formulareg <- paste(output_col_name, \"~\", paste(input_col_names, collapse=\"+\"))\n",
    "regmodel_list <- c()\n",
    "\n",
    "for (i in 1:num_regmodels) {\n",
    "  if (reg_technique_names[i] == \"Regr-LnR\") {\n",
    "    res <- LinearRegression(formulareg, dattrain)\n",
    "  } else if (reg_technique_names[i] == \"Regr-kNN\") {\n",
    "    weka_options <- Weka_control(K = 10, I=TRUE ) # By default K= 1 and is unweighted\n",
    "\t#  -I weighted by the inverse of the distance.\n",
    "\t#  -F weighted by 1- distance\n",
    "    res <- IBk(formulareg, dattrain, control = weka_options)\n",
    "  } else if (reg_technique_names[i] == \"Regr-M5P\") {\n",
    "    res <- M5P(formulareg, dattrain)\n",
    "  } else if (reg_technique_names[i] == \"Regr-Max\") {\n",
    "    res <- Inf\n",
    "  } else if (reg_technique_names[i] == \"Regr-qr\") {\n",
    "    formulareg1 <- paste(output_col_name, \"~\", paste(input_col_names[c(1,4:8)], collapse=\"+\"))\n",
    "    res<-rq(formulareg1, data = dattrain[,!colnames(dattrain) %in% c(\"city\",\"state\")],method=\"lasso\") \n",
    "    #formulareg1 <- paste(output_col_name, \"~\", paste(input_col_names[c(1,3:8)], collapse=\"+\"))\n",
    "    #res<-rq(formulareg1, data = dattrain[,!colnames(dattrain) %in% c(\"city\")],method=\"lasso\") \n",
    "  } else if (reg_technique_names[i] == \"Regr-Min\") {\n",
    "    res <- -Inf\n",
    "  } else if (reg_technique_names[i] == \"Regr-Avg\") {\n",
    "    res <- mean(dattrain[[output_col_name]])\t\n",
    "  } else if (reg_technique_names[i] == \"Regr-Med\") {\n",
    "    res <- median(dattrain[[output_col_name]])\n",
    "  } else if (reg_technique_names[i] == \"Regr-Bad\") {\n",
    "    res <- median(dattrain[[output_col_name]])\n",
    "  }\telse {\n",
    "    print(\"Unknown regression technique\")\n",
    "\terr()\n",
    "  }\n",
    "  regmodel_list[[i]] <- res\n",
    "}\n",
    "\n",
    "\n"
   ]
  },
  {
   "cell_type": "markdown",
   "metadata": {},
   "source": [
    " APPLIES regmodel_list"
   ]
  },
  {
   "cell_type": "code",
   "execution_count": 86,
   "metadata": {
    "collapsed": false
   },
   "outputs": [],
   "source": [
    "CLIP_REGRESSORS <- \"NO\"\n",
    "yhat_list <- NULL\n",
    "for (i in 1:num_regmodels) {\n",
    "  if (reg_technique_names[i] == \"Regr-Max\") {\n",
    "    yhat_list[[i]] <- rep(regmodel_list[[i]], dattestlen)\n",
    "  } else if (reg_technique_names[i] == \"Regr-Min\") {\n",
    "    yhat_list[[i]] <- rep(regmodel_list[[i]], dattestlen)\n",
    "  } else if (reg_technique_names[i] == \"Regr-Avg\") {\n",
    "    yhat_list[[i]] <- rep(regmodel_list[[i]], dattestlen)\n",
    "  } else if (reg_technique_names[i] == \"Regr-Med\") {\n",
    "    yhat_list[[i]] <- rep(regmodel_list[[i]], dattestlen)\n",
    "  } else if (reg_technique_names[i] == \"Regr-Bad\") {\n",
    "    predictions <- rep(Inf, dattestlen) # We put Infty to all\n",
    "\tmd <- regmodel_list[[i]]  # We recover the train median\n",
    "\thigh_values <- (test_actual > md)  # Which are the high values?\n",
    "\tpredictions[high_values] <- rep(-Inf,sum(high_values))           \n",
    "      # -Infty for those that are higher than the train median\n",
    "\tyhat_list[[i]] <- predictions\n",
    "\tprint(predictions)\n",
    "  } else {\t\n",
    "    if  (reg_technique_names[i] == \"Regr-qr\")  yhat_list[[i]] <- predict(regmodel_list[[i]], \n",
    "                                                                         dattest[!colnames(dattest) %in% c(\"city\")])\n",
    "    else yhat_list[[i]] <- predict(regmodel_list[[i]], dattest)\n",
    "  }\t\n",
    "  \n",
    "  if (!(reg_technique_names[i] %in% c(\"Regr-Max\", \"Regr-Min\", \"Regr-Avg\", \"Regr-Med\", \"Regr-Bad\"))) {\n",
    "    if (CLIP_REGRESSORS == \"ZERO\") {\n",
    "      yhat_list[[i]][yhat_list[[i]] < 0] <- 0   # For those that are < 0 set to zero.\n",
    "    } else if (CLIP_REGRESSORS == \"TRAIN_MINIMUM\") {\n",
    "      yhat_list[[i]][yhat_list[[i]] < 0] <- min(train_actual)  \n",
    "        # For those that are < 0 set to the minimum in the training set\n",
    "    }\n",
    "  }\t\n",
    "}\n",
    "\n",
    "\n"
   ]
  },
  {
   "cell_type": "markdown",
   "metadata": {},
   "source": [
    "Calculates the points for the the regression (reframing) models"
   ]
  },
  {
   "cell_type": "code",
   "execution_count": 87,
   "metadata": {
    "collapsed": false
   },
   "outputs": [],
   "source": [
    "########################################################################\n",
    "####### CALCULATES THE POINTS FOR THE SIX APPROACHES AND RESULTS #######\n",
    "########################################################################\n",
    "\n",
    "min_test_actual <- min(test_actual) # - 50  # Add or subtract to change the range\n",
    "max_test_actual <- max(test_actual) # + 50\n",
    "\n",
    "formula_class <- paste(\"class\", \"~\", paste(input_col_names, collapse=\"+\"))\n",
    "\n",
    "\n",
    "v <- unlist(yhat_list)   # All yhat values without infinities.\n",
    "v <- v[abs(v) != Inf]  \n",
    "   \n",
    "miny <- min(min_test_actual, v)  # We calculate the min for all methods\n",
    "maxy <- max(max_test_actual, v)  # We calculate the max for all methods\n",
    "   \n",
    "# We generate the distributions (vectors) of cutoffs   \n",
    "# if (NUM_CUTOFFS_UNIFORM == -1) {\n",
    "#  NUM_CUTOFFS_UNIFORM <- dattestlen \n",
    "#}  \n",
    "#cutoffs_uniform <- ((-1:NUM_CUTOFFS_UNIFORM)/(NUM_CUTOFFS_UNIFORM-1)) * (maxy-miny) + miny    \n",
    "# The cutoffs go a little bit beyond the miny and the maxy\n",
    "cutoffs_uniform <- Reg2Class_UCE_cutoffs(NUM_CUTOFFS_UNIFORM, maxy, miny, dattestlen)\n",
    "\n",
    "cutoffs_observed <- Reg2Class_OCE_cutoffs(test_actual)\n",
    "\n",
    "#cutoffs_observed <- test_actual\n",
    "  \n",
    "# We prepare the various lists and vectore to store the results\n",
    "uce_points_list <- list()\n",
    "oce_points_list <- list()\n",
    "\n",
    "  oce_points_list_mod <- list()\n",
    "\n",
    "\n",
    "uce_area <- NULL\n",
    "oce_area <- NULL\n",
    "\n",
    "\n",
    "# We do first the regression (reframing) models\n",
    "\n",
    "if (num_regmodels > 0) {\n",
    "for (i in 1:num_regmodels) {\n",
    "  yhats <- yhat_list[[i]]\n",
    "    \n",
    "  uce_points <- Reg2Class_Reframing_Points(cutoffs_uniform, yhats, test_actual)  \n",
    "  oce_points <- Reg2Class_Reframing_Points(cutoffs_observed, yhats, test_actual)  \n",
    "  oce_points_mod <- Reg2Class_Reframing_Points(cutsm, yhats, test_actual)  \n",
    "  \n",
    "  \n",
    "  uce_points_list[[i]] <- uce_points\n",
    "  oce_points_list[[i]] <- oce_points\n",
    "   oce_points_list_mod[[i]]<-oce_points_mod\n",
    "  # We calculate both areas\n",
    "  u <- Reg2Class_UCE_area(uce_points, cutoffs_uniform)\n",
    "    # mean(uce_points) * (max(cutoffs_uniform) - min(cutoffs_uniform))\n",
    "  o <- Reg2Class_OCE_area(oce_points) # mean(oce_points)\n",
    "\n",
    "  \n",
    "  uce_area[i] <- u\n",
    "  oce_area[i] <- o\n",
    "\n",
    "}\n",
    "}"
   ]
  },
  {
   "cell_type": "markdown",
   "metadata": {},
   "source": [
    "Calculates the points for the the Classification (retraining) models"
   ]
  },
  {
   "cell_type": "code",
   "execution_count": null,
   "metadata": {
    "collapsed": false
   },
   "outputs": [],
   "source": [
    "if (num_classmodels > 0) {\n",
    "for (i in 1: num_classmodels) {\n",
    "\n",
    "  j <- i + num_regmodels \n",
    "  \n",
    "  uce_points <- Reg2Class_Retraining_Points(cutoffs_uniform, class_technique_names[i], \n",
    "                                            dattrain, dattest, output_col_name, formula_class)   \n",
    "  oce_points <- Reg2Class_Retraining_Points(cutoffs_observed, class_technique_names[i],\n",
    "                                            dattrain, dattest, output_col_name, formula_class) \n",
    "  oce_points_mod <- Reg2Class_Retraining_Points(cutsm, class_technique_names[i], \n",
    "                                                dattrain, dattest, output_col_name, formula_class) \n",
    "  \n",
    "  uce_points_list[[j]] <- uce_points\n",
    "  oce_points_list[[j]] <- oce_points\n",
    "  oce_points_list_mod[[j]]<-oce_points_mod\n",
    "  # We calculate both areas\n",
    "  u <- Reg2Class_UCE_area(uce_points, cutoffs_uniform) \n",
    "  o <- Reg2Class_OCE_area(oce_points)\n",
    "\n",
    " \n",
    "  uce_area[j] <- u\n",
    "  oce_area[j] <- o\n",
    "\n",
    "}  \n",
    "}\n"
   ]
  },
  {
   "cell_type": "markdown",
   "metadata": {},
   "source": [
    "Options for the plots"
   ]
  },
  {
   "cell_type": "code",
   "execution_count": null,
   "metadata": {
    "collapsed": true
   },
   "outputs": [],
   "source": [
    "MY_COLOURS <- rep(c(\"blue3\", \"red3\", \"green4\", \"cyan\", \"pink\", \"lawngreen\", \"orange\", \"purple\"), 20)\n",
    "UCE_CURVE_OCE_POINTS_SIZE <- 0.1 #  1 # 0.25 # 0.1 # 0.25\n",
    "UCE_PLOT_LEGEND_PLACE <- \"topleft\" # NULL # \"right\" # \"topright\" # \"left\" # \"topleft\"\n",
    "OCE_PLOT_LEGEND_PLACE <- \"topleft\" # \"left\" # \"topright\" \n",
    "PLOT_HEIGHT <- 0.4 # 1 # 0.35        # Height of the plot. Put something below 1 especially if costs are small\n",
    "MY_STYLES <-  rep(1, 200)    # If everything continuous try this.\n",
    "OCE_CURVE_OCE_POINTS_SIZE <- 0 # 0.1 # 0.25"
   ]
  },
  {
   "cell_type": "markdown",
   "metadata": {},
   "source": [
    "UCE curve"
   ]
  },
  {
   "cell_type": "code",
   "execution_count": null,
   "metadata": {
    "collapsed": false
   },
   "outputs": [],
   "source": [
    "Reg2Class_UCE_space(xliminf=miny, xlimsup=maxy, \n",
    "                    ylimsup=PLOT_HEIGHT, test_vertical_line=median(dattest[[output_col_name]]),\n",
    "                    test_horizontal_line=NULL)\n",
    "for (i in 1:(num_regmodels+num_classmodels)) {  \n",
    "  Reg2Class_UCE_curve(cutoffs_uniform, uce_points_list[[i]], colour=MY_COLOURS[i], linestyle=MY_STYLES[i],\n",
    "                      pointcharacter=i, pointsize=1, plot_lines=TRUE, plot_points=FALSE)\n",
    "  Reg2Class_UCE_curve(cutoffs_observed, oce_points_list[[i]], colour=MY_COLOURS[i], linestyle=MY_STYLES[i],\n",
    "                      pointcharacter=i, pointsize=UCE_CURVE_OCE_POINTS_SIZE, plot_lines=FALSE, plot_points=TRUE)  \n",
    "    legend(UCE_PLOT_LEGEND_PLACE, legend= all_names, col=MY_COLOURS, lty=MY_STYLES, pch=1:i, cex=0.75,lwd=2)\n",
    "}"
   ]
  },
  {
   "cell_type": "markdown",
   "metadata": {},
   "source": [
    "CE PLot"
   ]
  },
  {
   "cell_type": "code",
   "execution_count": null,
   "metadata": {
    "collapsed": false
   },
   "outputs": [],
   "source": [
    "Reg2Class_OCE_space(ylimsup=PLOT_HEIGHT, xaxis=\"VALUES\", ,title=\"CE\",xlab=c( \"Cutoff\"), \n",
    "                    cutoffs=cutsm, test_vertical_line=NULL, test_horizontal_line=0.5, test_diagonal_lines=NULL)\n",
    "  \n",
    "\n",
    "for (i in 1:(num_regmodels+num_classmodels)) {  \n",
    "  Reg2Class_OCE_curve(oce_points_list_mod[[i]], , colour=MY_COLOURS[i], linestyle=MY_STYLES[i],\n",
    "                      pointcharacter=i, pointsize=OCE_CURVE_OCE_POINTS_SIZE, CURVE=\"CURVE\")    \n",
    "}\n",
    "\n",
    "  legend(UCE_PLOT_LEGEND_PLACE, legend= all_names, col=MY_COLOURS, lty=MY_STYLES, pch=1:i, cex=0.75)\n",
    "\n"
   ]
  },
  {
   "cell_type": "markdown",
   "metadata": {},
   "source": [
    "OCE curve"
   ]
  },
  {
   "cell_type": "code",
   "execution_count": null,
   "metadata": {
    "collapsed": false
   },
   "outputs": [],
   "source": [
    " Reg2Class_OCE_space(ylimsup=PLOT_HEIGHT, xaxis=\"BOTH\", xlab=c(\"True Rank Ratio\", \"Cutoff\"), \n",
    "                     cutoffs=cutoffs_observed, test_vertical_line=0.5,\n",
    "                     test_horizontal_line=0.5, test_diagonal_lines=TRUE)\n",
    "  \n",
    "for (i in 1:(num_regmodels+num_classmodels)) {\n",
    "  Reg2Class_OCE_curve(oce_points_list[[i]], , colour=MY_COLOURS[i], \n",
    "                      linestyle=MY_STYLES[i], pointcharacter=i, \n",
    "                      pointsize=OCE_CURVE_OCE_POINTS_SIZE, CURVE=\"CURVE\")    \n",
    "}\n",
    "\n",
    "\n",
    "legend(OCE_PLOT_LEGEND_PLACE, legend= all_names, col=MY_COLOURS, lty=MY_STYLES, pch=1:i, cex=0.75,lwd=2)\n"
   ]
  },
  {
   "cell_type": "markdown",
   "metadata": {},
   "source": [
    "AE diagram"
   ]
  },
  {
   "cell_type": "code",
   "execution_count": null,
   "metadata": {
    "collapsed": false
   },
   "outputs": [],
   "source": [
    "\n",
    "  max_AE <- 0\n",
    "  for (i in 1:(num_regmodels)) {\n",
    "    yhats <- yhat_list[[i]]\n",
    "    max_AE <- max(max_AE, max(abs(yhats - test_actual)))\n",
    "\tif (max_AE == Inf) {\n",
    "\t  max_AE <- max(test_actual)\n",
    "\t}\n",
    "  }\n",
    "\n",
    "  Reg2Class_AE_space(dattestlen, ylimsup=max_AE)    \n",
    "\n",
    "  \n",
    "for (i in 1:(num_regmodels)) {\n",
    "  Reg2Class_AE_diagram(test_actual, yhat_list[[i]], colour=MY_COLOURS[i], \n",
    "                       linestyle=MY_STYLES[i], pointcharacter=i)    \n",
    "}\n",
    " \n",
    " "
   ]
  },
  {
   "cell_type": "markdown",
   "metadata": {},
   "source": [
    "IR diagram"
   ]
  },
  {
   "cell_type": "code",
   "execution_count": null,
   "metadata": {
    "collapsed": false
   },
   "outputs": [],
   "source": [
    "Reg2Class_IR_space(dattestlen)\n",
    "\n",
    "  \n",
    "for (i in 1:(num_regmodels)) {\n",
    "  Reg2Class_IR_diagram(test_actual, yhat_list[[i]], colour=MY_COLOURS[i], \n",
    "                       linestyle=MY_STYLES[i], pointcharacter=i)    \n",
    "}"
   ]
  },
  {
   "cell_type": "markdown",
   "metadata": {},
   "source": [
    "Histogram"
   ]
  },
  {
   "cell_type": "code",
   "execution_count": null,
   "metadata": {
    "collapsed": false
   },
   "outputs": [],
   "source": [
    "hist(test_actual,breaks=20, xlab=\"True values (deployment)\", main=\"Histogram\", col= MY_COLOURS[1])"
   ]
  },
  {
   "cell_type": "markdown",
   "metadata": {},
   "source": [
    "Cumulative plot"
   ]
  },
  {
   "cell_type": "code",
   "execution_count": null,
   "metadata": {
    "collapsed": false
   },
   "outputs": [],
   "source": [
    "plot.ecdf(test_actual, xlab=\"True values (deployment)\", ylab=\"F\", \n",
    "          main=\"Cumulative distribution function\", col= MY_COLOURS[1])"
   ]
  },
  {
   "cell_type": "code",
   "execution_count": null,
   "metadata": {
    "collapsed": true
   },
   "outputs": [],
   "source": []
  }
 ],
 "metadata": {
  "kernelspec": {
   "display_name": "R",
   "language": "R",
   "name": "ir"
  },
  "language_info": {
   "codemirror_mode": "r",
   "file_extension": ".r",
   "mimetype": "text/x-r-source",
   "name": "R",
   "pygments_lexer": "r",
   "version": "3.2.2"
  }
 },
 "nbformat": 4,
 "nbformat_minor": 0
}
